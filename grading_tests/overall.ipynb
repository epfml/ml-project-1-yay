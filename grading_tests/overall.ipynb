{
 "cells": [
  {
   "cell_type": "code",
   "execution_count": 1,
   "metadata": {
    "ExecuteTime": {
     "end_time": "2023-10-26T13:53:39.958806032Z",
     "start_time": "2023-10-26T13:53:38.828203084Z"
    }
   },
   "outputs": [],
   "source": [
    "from helpers import *\n",
    "import numpy as np\n",
    "import pandas as pd\n",
    "from implementations import *"
   ]
  },
  {
   "cell_type": "code",
   "execution_count": 2,
   "metadata": {
    "ExecuteTime": {
     "start_time": "2023-10-26T13:53:39.955737596Z"
    },
    "is_executing": true
   },
   "outputs": [],
   "source": [
    "## Use pickle instead of csv, much faster, please comment out below \n",
    "data_path = '../data/dataset/dataset_to_release'\n",
    "x_train_preclean, x_test_preclean, y_train, train_ids, test_ids = load_csv_data(data_path)"
   ]
  },
  {
   "cell_type": "markdown",
   "metadata": {},
   "source": [
    "# Data cleaning"
   ]
  },
  {
   "cell_type": "markdown",
   "metadata": {},
   "source": [
    "### Getting an idea of the data \n",
    "Find really bad columns and drop them"
   ]
  },
  {
   "cell_type": "code",
   "execution_count": 3,
   "metadata": {
    "is_executing": true
   },
   "outputs": [
    {
     "name": "stdout",
     "output_type": "stream",
     "text": [
      "X train (328135, 321)\n",
      "X test (109379, 321)\n"
     ]
    }
   ],
   "source": [
    "print(\"X train\", x_train_preclean.shape)\n",
    "print(\"X test\", x_test_preclean.shape)"
   ]
  },
  {
   "cell_type": "code",
   "execution_count": 4,
   "metadata": {
    "collapsed": false,
    "is_executing": true,
    "jupyter": {
     "outputs_hidden": false
    }
   },
   "outputs": [
    {
     "data": {
      "text/plain": [
       "Text(0, 0.5, '# of columns')"
      ]
     },
     "execution_count": 4,
     "metadata": {},
     "output_type": "execute_result"
    },
    {
     "data": {
      "image/png": "[encoded data removed]",
      "text/plain": [
       "<Figure size 640x480 with 1 Axes>"
      ]
     },
     "metadata": {},
     "output_type": "display_data"
    }
   ],
   "source": [
    "## Find how many values are completely empty in column\n",
    "def percentageFilled(data):\n",
    "    return 1 - np.isnan(data).sum() / len(data)\n",
    "\n",
    "\n",
    "percentage_filled = np.apply_along_axis(percentageFilled, 0, x_train_preclean)\n",
    "\n",
    "import matplotlib.pyplot as plt\n",
    "\n",
    "plt.hist(percentage_filled, bins=20)\n",
    "plt.title(\"Percentage of filled values per column\")\n",
    "plt.xlabel(\"Percentage\")\n",
    "plt.ylabel(\"# of columns\")"
   ]
  },
  {
   "cell_type": "code",
   "execution_count": 5,
   "metadata": {
    "collapsed": false,
    "is_executing": true,
    "jupyter": {
     "outputs_hidden": false
    }
   },
   "outputs": [
    {
     "name": "stdout",
     "output_type": "stream",
     "text": [
      "keep_indicies [  0   1   2   3   4   5   6   7   8  10  13  15  16  17  20  21  23  24\n",
      "  25  26  27  28  29  30  31  32  33  34  35  36  37  38  39  40  42  43\n",
      "  44  45  46  47  48  50  51  52  53  54  56  57  58  59  60  61  62  63\n",
      "  65  66  67  68  69  70  71  72  73  75  76  77  78  79  80  81  82  83\n",
      "  84  85  86  87  88  89  90  91  92  93  94  95  96  97  98  99 100 101\n",
      " 102 103 104 105 106 118 136 198 199 216 217 218 219 220 221 222 223 227\n",
      " 228 229 230 231 232 233 234 235 236 237 238 239 240 241 242 243 244 245\n",
      " 246 247 248 249 250 251 252 253 254 255 256 257 258 259 260 261 262 263\n",
      " 264 265 266 267 268 269 270 271 272 273 274 275 276 277 278 279 280 281\n",
      " 282 283 284 285 286 287 288 289 290 291 292 293 294 295 296 297 298 299\n",
      " 300 301 302 303 304 305 306 307 308 309 310 311 312 313 314 315 316 317\n",
      " 318 319 320]\n"
     ]
    }
   ],
   "source": [
    "## Process data \n",
    "## 1. drop the columns with more than 80% missing values\n",
    "def threshold_col_filter(data, threshold):\n",
    "    \"\"\" \n",
    "    filter out data where the column has less than threshold percentage of data\n",
    "    returns: \n",
    "        indicies of columns to keep\n",
    "    \"\"\"\n",
    "    percentage_filled = np.apply_along_axis(percentageFilled, 0, data)\n",
    "    # keep_indicies = np.argwhere(percentage_filled > threshold).flatten()\n",
    "    return percentage_filled > threshold\n",
    "\n",
    "\n",
    "def non_constant_filter(data):\n",
    "    return np.logical_not(np.logical_or(np.isnan(np.nanstd(data, 0)), np.nanstd(data, 0) == 0))\n",
    "\n",
    "# TODO uncorrelation?\n",
    "\n",
    "# TODO correlation w\n",
    "\n",
    "keep_indicies = np.argwhere(np.logical_and(\n",
    "    threshold_col_filter(x_train_preclean, 0.2), \n",
    "    non_constant_filter(x_train_preclean)\n",
    "    )\n",
    ").flatten()\n",
    "\n",
    "print(\"keep_indicies\", keep_indicies)"
   ]
  },
  {
   "cell_type": "code",
   "execution_count": 6,
   "metadata": {
    "is_executing": true
   },
   "outputs": [
    {
     "name": "stdout",
     "output_type": "stream",
     "text": [
      "X train (328135, 201)\n"
     ]
    }
   ],
   "source": [
    "def filter_columns_by_indicies(data, keep_indicies):\n",
    "    \"\"\"\n",
    "    used to process test data \n",
    "    only keep the columns that are in the indicies \n",
    "    \"\"\"\n",
    "    return data[:, keep_indicies]\n",
    "\n",
    "\n",
    "x_train = filter_columns_by_indicies(x_train_preclean, keep_indicies)\n",
    "print(\"X train\", x_train.shape)\n",
    "\n",
    "x_test = filter_columns_by_indicies(x_test_preclean, keep_indicies)\n",
    "print(\"X test\", x_test.shape)"
   ]
  },
  {
   "cell_type": "markdown",
   "metadata": {
    "collapsed": false,
    "jupyter": {
     "outputs_hidden": false
    }
   },
   "source": [
    "### Data cleaning \n",
    "\n",
    "1. remove columns where 80% of the values are missing\n",
    "2. replace the missing values of X with the mean of the column\n",
    "3. standardize the data\n",
    "4. add column of 1 at the beginning  \n",
    "\n",
    "# **Make sure you do the same for x_test**"
   ]
  },
  {
   "cell_type": "code",
   "execution_count": 11,
   "metadata": {
    "collapsed": false,
    "is_executing": true,
    "jupyter": {
     "outputs_hidden": false
    }
   },
   "outputs": [],
   "source": [
    "def is_categorical_feature(xn, threshold=0.05):\n",
    "    return len(set(xn)) / len(xn) < threshold\n",
    "\n",
    "def standardize(x):\n",
    "    \"\"\"Standardize the original data set.\"\"\"\n",
    "    return np.nan_to_num((x - np.nanmean(x, axis=0)) / np.nanstd(x, axis=0))\n",
    "\n",
    "def one_hot_encode(xn):\n",
    "    pass\n",
    "     # TODO\n",
    "\n",
    "# ind = np.apply_along_axis(is_categorical_feature, 0, x_train)"
   ]
  },
  {
   "cell_type": "code",
   "execution_count": 14,
   "metadata": {
    "is_executing": true
   },
   "outputs": [],
   "source": [
    "## 2. Replace the missing values with the mean of the column, add columns \n",
    "def standardize(x):\n",
    "    \"\"\"Standardize the original data set.\"\"\"\n",
    "    return np.nan_to_num((x - np.nanmean(x, axis=0)) / np.nanstd(x, axis=0))\n",
    "\n",
    "\n",
    "def process_data(x):\n",
    "    # col_means = np.nanmean(x, axis=0)\n",
    "    # inds = np.where(np.isnan(x))\n",
    "    # x[inds] = np.take(col_means, inds[1])  # replace columns with values NaN with the mean of that column\n",
    "    # x = (x - np.mean(x)) / np.std(x)  # standarize the data \n",
    "    ## ?? I feel like standardizing by column shouldn't be done like above \n",
    "    x = standardize(x)\n",
    "    x = np.c_[np.ones(len(x)), x]  # add the column of ones\n",
    "    return x\n",
    "\n",
    "\n",
    "x_train_std = process_data(x_train)\n",
    "x_test_std = process_data(x_test)\n",
    "\n",
    "# x_train_2 = process_data(x_train)\n",
    "# x_test_2 = process_data(x_test_2)"
   ]
  },
  {
   "cell_type": "markdown",
   "metadata": {},
   "source": [
    "# Logistic regression *without* regularization"
   ]
  },
  {
   "cell_type": "code",
   "execution_count": 15,
   "metadata": {
    "is_executing": true
   },
   "outputs": [],
   "source": [
    "initial_w = np.zeros(x_train_std.shape[1], dtype=np.float128)\n",
    "max_iters = 100\n",
    "gamma = 0.5"
   ]
  },
  {
   "cell_type": "code",
   "execution_count": 16,
   "metadata": {
    "is_executing": true
   },
   "outputs": [],
   "source": [
    "## Here the logistic regression is from implementations.py\n",
    "## takes around 20 mins to run for 100 iters\n",
    "w, loss = logistic_regression(y_train, x_train_std, initial_w, max_iters, gamma)"
   ]
  },
  {
   "cell_type": "code",
   "execution_count": 17,
   "metadata": {
    "is_executing": true
   },
   "outputs": [
    {
     "name": "stdout",
     "output_type": "stream",
     "text": [
      "loss is  0.22981794954539787257\n",
      "w is  [-2.83166341e+00  6.08272542e-03  7.93805852e-03 -1.53434155e-03\n",
      " -1.43305607e-03 -4.18027990e-03 -1.07245566e-02  5.22945720e-03\n",
      " -1.95187198e-03 -1.95187198e-03  3.10360281e-03 -6.98470933e-04\n",
      "  1.23301082e-02  2.49478778e-02 -9.31566992e-03 -2.15348096e-02\n",
      " -6.84407464e-03 -4.71552603e-03 -2.26622704e-03  7.21163514e-03\n",
      "  3.40544142e-01 -7.34708059e-02 -7.76772067e-03 -1.71119289e-02\n",
      " -1.47183934e-02  2.13619271e-02 -3.09180059e-02 -6.81944703e-03\n",
      " -1.73139101e-01 -8.37669543e-02 -5.91212526e-02 -6.66143051e-02\n",
      " -1.94266087e-01 -1.32372597e-01 -2.16688614e-02 -2.57680037e-02\n",
      " -3.13948605e-03 -6.30017865e-02 -2.78406115e-03 -1.83947277e-02\n",
      " -4.90576859e-02 -1.00070568e-01 -2.49316808e-01 -3.52128042e-02\n",
      " -1.59323519e-02  2.75987200e-02 -4.15364454e-04  2.08377479e-03\n",
      " -6.57333640e-02  1.19720240e-01  9.08085462e-03  1.40210008e-02\n",
      "  4.21967726e-02 -3.04012584e-02  1.14801591e-02 -3.92857253e-02\n",
      " -5.21385821e-02 -1.78810459e-02 -3.06204065e-03 -4.29414836e-02\n",
      "  1.53469818e-02 -4.36907537e-03 -7.33293834e-02  4.80326557e-02\n",
      " -6.82807964e-03  1.59811161e-02  6.24360364e-02  3.23502474e-03\n",
      "  3.64590624e-02 -3.95288292e-03 -5.12966324e-03  6.56015217e-03\n",
      "  1.04842186e-02  2.86348931e-02 -8.20192821e-03 -9.24004630e-03\n",
      "  2.77318096e-02  1.58289881e-02  1.85041756e-03 -6.65708661e-03\n",
      "  1.36187729e-02  1.10120629e-02  6.20077085e-03  7.09235802e-03\n",
      " -1.70213426e-02 -6.87643946e-03 -1.70467457e-02  2.55165113e-02\n",
      "  4.06034208e-02 -2.14526724e-02 -7.55087343e-03 -7.12209917e-03\n",
      " -7.90431228e-02  6.18911614e-03 -5.83847835e-03 -7.23196933e-03\n",
      " -1.20856239e-02 -2.50214336e-02  1.55909378e-03  2.47595108e-03\n",
      "  1.23993472e-02 -1.74676676e-02  2.73584137e-02  6.12780240e-03\n",
      " -2.34224173e-03 -1.23611438e-02  4.55440958e-03 -2.11323529e-03\n",
      " -2.40139488e-04 -7.78180202e-03 -2.83263474e-03 -1.88330219e-03\n",
      "  5.30984189e-02  1.08706140e-01 -2.76619845e-03  1.86494503e-01\n",
      "  2.84811969e-02  1.76286310e-02 -2.36270995e-02 -6.81914773e-02\n",
      "  7.53251290e-05  5.70093923e-03  7.06511614e-03  4.09291770e-03\n",
      " -1.22307278e-02 -6.00902991e-03 -1.06181896e-02  1.64983184e-01\n",
      "  4.86816579e-02  1.66217745e-01  5.94583555e-02  9.31570306e-03\n",
      "  9.25458388e-03 -1.22560656e-02 -2.02925885e-02  1.44989835e-02\n",
      " -7.39597576e-03 -8.05938700e-03 -7.07431183e-03 -3.85806443e-02\n",
      " -7.13879784e-02  7.31262852e-02  2.21925437e-02 -1.19918668e-02\n",
      " -5.26352365e-03  1.86975546e-03 -6.13427221e-03  2.19837099e-02\n",
      " -1.13486206e-02  1.31729966e-02 -5.49166402e-04 -8.89388676e-03\n",
      "  1.03127767e-02  2.65527203e-03  4.74264756e-03  2.60585898e-03\n",
      "  1.61802330e-03  1.75131616e-03  1.72211938e-03  6.93448782e-05\n",
      " -4.55908707e-03 -1.95810414e-03  9.92012523e-03 -2.40293137e-03\n",
      " -2.29226154e-03  5.72687269e-04 -2.45168218e-02 -1.44049087e-02\n",
      " -3.25437816e-02 -1.66956748e-02  5.05469144e-02  1.57965062e-02\n",
      " -1.72578981e-02  3.79662080e-03  1.17715440e-02  7.45231327e-03\n",
      " -6.16361879e-04 -4.88144756e-03  2.12781966e-02 -5.60849720e-05\n",
      " -2.44221665e-04 -5.07988258e-04 -1.95839846e-03  8.98380609e-04\n",
      "  7.93406594e-03  4.36526626e-03 -3.96282281e-03 -4.93292910e-03\n",
      " -2.51025814e-03 -2.80929190e-03 -5.22335279e-03  5.06784912e-04\n",
      "  1.03876339e-03  9.61188888e-03  1.52060689e-03  8.17634185e-03\n",
      " -8.91005524e-04  5.40750704e-03  6.39620119e-03  8.24529362e-03\n",
      " -4.80976433e-03  8.73815962e-03]\n"
     ]
    }
   ],
   "source": [
    "print(\"loss is \", loss)\n",
    "print(\"w is \", w)"
   ]
  },
  {
   "cell_type": "markdown",
   "metadata": {},
   "source": [
    "### Trying to predict x_test"
   ]
  },
  {
   "cell_type": "code",
   "execution_count": 18,
   "metadata": {
    "is_executing": true
   },
   "outputs": [
    {
     "name": "stdout",
     "output_type": "stream",
     "text": [
      "temp (328135,)\n"
     ]
    }
   ],
   "source": [
    "def prediction_labels(weights, data):  ## isn't this for linear regression only ? Don't we need the sigmoid?\n",
    "    \"\"\"Generates class predictions given weights, and a test data matrix.\"\"\"\n",
    "    y_pred = sigmoid(np.dot(data, weights))\n",
    "    # display(y_pred)\n",
    "    y_pred[np.where(y_pred >= 0.5)] = 1\n",
    "    y_pred[np.where(y_pred < 0.5)] = 0\n",
    "    return y_pred\n",
    "\n",
    "\n",
    "y_pred = prediction_labels(w, x_train_std)\n",
    "temp = y_pred[y_pred != -1]\n",
    "print(\"temp\", temp.shape)"
   ]
  },
  {
   "cell_type": "code",
   "execution_count": 20,
   "metadata": {},
   "outputs": [
    {
     "name": "stdout",
     "output_type": "stream",
     "text": [
      "accuracy 0.9135447300653694\n"
     ]
    }
   ],
   "source": [
    "accuracy = (y_pred == y_train).sum() / len(y_train)\n",
    "print(\"accuracy\", accuracy)"
   ]
  },
  {
   "cell_type": "code",
   "execution_count": null,
   "metadata": {
    "is_executing": true
   },
   "outputs": [],
   "source": [
    "print(\"x_train_std\", x_train_std.shape, \"w shape\", w.shape)"
   ]
  },
  {
   "cell_type": "markdown",
   "metadata": {},
   "source": [
    "### Logistic regression with regularization"
   ]
  },
  {
   "cell_type": "code",
   "execution_count": null,
   "metadata": {},
   "outputs": [],
   "source": []
  }
 ],
 "metadata": {
  "kernelspec": {
   "display_name": "Python 3 (ipykernel)",
   "language": "python",
   "name": "python3"
  },
  "language_info": {
   "codemirror_mode": {
    "name": "ipython",
    "version": 3
   },
   "file_extension": ".py",
   "mimetype": "text/x-python",
   "name": "python",
   "nbconvert_exporter": "python",
   "pygments_lexer": "ipython3",
   "version": "3.10.12"
  }
 },
 "nbformat": 4,
 "nbformat_minor": 4
}
