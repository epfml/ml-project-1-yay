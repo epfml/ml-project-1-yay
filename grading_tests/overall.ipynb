{
 "cells": [
  {
   "cell_type": "code",
   "execution_count": 76,
   "metadata": {},
   "outputs": [],
   "source": [
    "from helpers import *\n",
    "import numpy as np\n",
    "import pandas as pd\n",
    "from implementations import *"
   ]
  },
  {
   "cell_type": "code",
   "execution_count": 77,
   "metadata": {},
   "outputs": [],
   "source": [
    "## Use pickle instead of csv, much faster, please comment out below \n",
    "data_path = '../data/dataset_to_release'\n",
    "x_train, x_test, y_train, train_ids, test_ids = load_csv_data(data_path)"
   ]
  },
  {
   "cell_type": "markdown",
   "metadata": {},
   "source": [
    "# Data cleaning"
   ]
  },
  {
   "cell_type": "markdown",
   "metadata": {},
   "source": [
    "### Getting an idea of the data \n",
    "Find really bad columns and drop them"
   ]
  },
  {
   "cell_type": "code",
   "execution_count": 78,
   "metadata": {},
   "outputs": [
    {
     "name": "stdout",
     "output_type": "stream",
     "text": [
      "X train (328135, 321)\n",
      "X test (109379, 321)\n"
     ]
    }
   ],
   "source": [
    "print(\"X train\", x_train.shape)\n",
    "print(\"X test\", x_test.shape)"
   ]
  },
  {
   "cell_type": "code",
   "execution_count": 79,
   "metadata": {},
   "outputs": [
    {
     "data": {
      "text/plain": [
       "Text(0, 0.5, '# of columns')"
      ]
     },
     "execution_count": 79,
     "metadata": {},
     "output_type": "execute_result"
    },
    {
     "data": {
      "image/png": "[encoded data removed]",
      "text/plain": [
       "<Figure size 640x480 with 1 Axes>"
      ]
     },
     "metadata": {},
     "output_type": "display_data"
    }
   ],
   "source": [
    "## Find how many values are completely empty in column\n",
    "def percentageFilled(data):\n",
    "    return np.isnan(data).sum()/ len(data)\n",
    "\n",
    "percentage_missing = np.apply_along_axis(percentageFilled, 0, x_train)\n",
    "\n",
    "import matplotlib.pyplot as plt\n",
    "plt.hist(percentage_missing, bins=20)\n",
    "plt.title(\"Percentage of missing values per column\")\n",
    "plt.xlabel(\"Percentage\")\n",
    "plt.ylabel(\"# of columns\")"
   ]
  },
  {
   "cell_type": "markdown",
   "metadata": {},
   "source": [
    "### Data cleaning \n",
    "\n",
    "1. remove columns where 80% of the values are missing\n",
    "2. replace the missing values of X with the mean of the column\n",
    "3. standardize the data\n",
    "4. add column of 1 at the beginning  \n",
    "\n",
    "# **Make sure you do the same for x_test**"
   ]
  },
  {
   "cell_type": "code",
   "execution_count": 95,
   "metadata": {},
   "outputs": [
    {
     "name": "stdout",
     "output_type": "stream",
     "text": [
      "X train (328135, 116)\n",
      "keep_indicies [ 11  14  22  41  49  55  64  74 107 108 109 110 111 112 113 114 115 116\n",
      " 117 119 120 121 122 123 124 125 126 127 128 129 130 131 132 133 134 135\n",
      " 137 138 139 140 141 142 143 144 145 146 147 148 149 150 151 152 153 154\n",
      " 155 156 157 158 159 160 161 162 163 164 165 166 167 168 169 170 171 172\n",
      " 173 174 175 176 177 178 179 180 181 182 183 184 185 186 187 188 189 190\n",
      " 191 192 193 194 195 196 197 200 201 202 203 204 205 206 207 208 209 210\n",
      " 211 212 213 214 215 224 225 226]\n"
     ]
    }
   ],
   "source": [
    "## Process data \n",
    "## 1. drop the columns with more than 80% missing values\n",
    "def filter_columns_by_threshold(data, threshold): \n",
    "    \"\"\" \n",
    "    filter out data where the column has less than threshold percentage of data\n",
    "    returns: \n",
    "        indicies of columns to keep\n",
    "        data with those columns\n",
    "    \"\"\"\n",
    "    percentage_missing = np.apply_along_axis(percentageFilled, 0, data)\n",
    "    percentage_filled_index = np.array([1 if x>= threshold else 0 for x in percentage_missing])\n",
    "    keep_indicies = percentage_filled_index * (np.arange(0, data.shape[1], 1)) \n",
    "    keep_indicies = keep_indicies[keep_indicies != 0]\n",
    "    return keep_indicies, data[:, keep_indicies]\n",
    "\n",
    "keep_indicies, x_train_2 = filter_columns_by_threshold(x_train, 0.8)\n",
    "print(\"X train\", x_train_2.shape)\n",
    "print(\"keep_indicies\", keep_indicies)"
   ]
  },
  {
   "cell_type": "code",
   "execution_count": 96,
   "metadata": {},
   "outputs": [
    {
     "name": "stdout",
     "output_type": "stream",
     "text": [
      "X test (109379, 116)\n"
     ]
    }
   ],
   "source": [
    "def filter_columns_by_indicies(data, keep_indicies):\n",
    "    \"\"\"\n",
    "    used to process test data \n",
    "    only keep the columns that are in the indicies \n",
    "    \"\"\"\n",
    "    return data[:, keep_indicies]\n",
    "x_test_2 = filter_columns_by_indicies(x_test, keep_indicies)\n",
    "print(\"X test\", x_test_2.shape)   "
   ]
  },
  {
   "cell_type": "code",
   "execution_count": 97,
   "metadata": {},
   "outputs": [],
   "source": [
    "## 2. Replace the missing values with the mean of the column, add columns \n",
    "def standardize(x):\n",
    "   \"\"\"Standardize the original data set.\"\"\"\n",
    "   mean_x = np.mean(x, axis=0)\n",
    "   x = x - mean_x\n",
    "   std_x = np.std(x, axis=0)\n",
    "   x = x / std_x\n",
    "   return x, mean_x, std_x\n",
    "\n",
    "def process_data(x):\n",
    "   col_means = np.nanmean(x, axis=0)\n",
    "   inds = np.where(np.isnan(x))\n",
    "   x[inds] = np.take(col_means, inds[1])  # replace columns with values NaN with the mean of that column\n",
    "   # x = (x - np.mean(x)) / np.std(x)  # standarize the data \n",
    "   ## ?? I feel like standardizing by column shouldn't be done like above \n",
    "   x, _, _ = standardize(x)[0]\n",
    "   x = np.c_[np.ones(len(x)), x]  # add the column of ones\n",
    "   return x\n",
    "\n",
    "x_train_2 = process_data(x_train_2)\n",
    "x_test_2 = process_data(x_test_2)"
   ]
  },
  {
   "cell_type": "markdown",
   "metadata": {},
   "source": [
    "# Logistic regression *without* regularization"
   ]
  },
  {
   "cell_type": "code",
   "execution_count": 83,
   "metadata": {},
   "outputs": [],
   "source": [
    "initial_w = np.ones(x_train_2.shape[1], dtype=np.float128) \n",
    "max_iters = 100\n",
    "gamma = 0.5"
   ]
  },
  {
   "cell_type": "code",
   "execution_count": 84,
   "metadata": {},
   "outputs": [
    {
     "name": "stderr",
     "output_type": "stream",
     "text": [
      "/Users/gladys/Desktop/project1/grading_tests/implementations.py:136: RuntimeWarning: overflow encountered in exp\n",
      "  return np.where(t < 0, np.exp(t)/(1.0 +np.exp(t)) , 1.0 / (1.0 + np.exp(-t)))  ##\n"
     ]
    }
   ],
   "source": [
    "## Here the logistic regression is from implementations.py\n",
    "## takes around 20 mins to run for 100 iters\n",
    "w, loss = logistic_regression(y_train, x_train_2, initial_w, max_iters, gamma)"
   ]
  },
  {
   "cell_type": "code",
   "execution_count": 85,
   "metadata": {},
   "outputs": [
    {
     "name": "stdout",
     "output_type": "stream",
     "text": [
      "loss is  -17.063451261087802526\n",
      "w is  [ -40.49858107   11.52468301   11.2950626    11.52468301   11.35414853\n",
      "   -7.149214     11.27270861   11.17166533   11.36538859   11.30719899\n",
      "   10.89412438   11.28618573  -77.27044744  -82.38225103    6.81309916\n",
      "    6.81880601    3.38029462   11.03047825   11.21425877   11.36147759\n",
      "    9.22743525   10.69947381   11.10218047    7.4358176    11.33800348\n",
      "   11.43367513    9.94597489   11.10096937   11.39816474   11.27106044\n",
      "   11.03477041    9.76187059   10.88130952   11.3187678    11.02371489\n",
      "   11.19037676   11.17488517   10.48028575   10.44921499   11.10288205\n",
      "   10.47403104   11.31278241   11.37861363 -137.16841014   11.26750041\n",
      "  -10.14109889   11.30549497   -9.36257126   -7.09534774   -1.00031867\n",
      " -226.23733091   10.38996353   10.01257647   10.32846288   10.15025258\n",
      "   11.27120294   11.29795847   11.27533955   10.8749457    11.2390059\n",
      "   11.415302     11.27474667   11.09288285   11.28682478   11.35160726\n",
      "   11.21080097   10.67813355   11.05128652    6.82106338   11.24474757\n",
      "   11.45260985   11.22778937   11.48838328   10.9682196    10.78052256\n",
      "   10.98277957   11.26203747   11.47708907   11.22949022   11.28612207\n",
      "   10.73429778   11.41878507   11.15340089   10.73443389   11.30108233\n",
      "   11.18807473   11.28397238   11.28510337   11.2085557    11.28282605\n",
      "   11.06449101   11.24712357   10.43005178   10.35626735   11.21123705\n",
      "   -3.4314568    11.22134298   -4.7022891    11.23029172   11.27770034\n",
      "   11.1083427    11.36252181   11.23702208   11.29055715  -10.39480389\n",
      "  -11.57446884   -6.09821632   -1.92894868   -9.13584581  -14.0553411\n",
      "  -14.74447455  -15.79599425   11.21726277   11.21882978    9.34977364\n",
      "    9.34977364 -270.40309656]\n"
     ]
    }
   ],
   "source": [
    "print(\"loss is \", loss)\n",
    "print(\"w is \", w)"
   ]
  },
  {
   "cell_type": "markdown",
   "metadata": {},
   "source": [
    "### Trying to predict x_test"
   ]
  },
  {
   "cell_type": "code",
   "execution_count": 103,
   "metadata": {},
   "outputs": [
    {
     "name": "stderr",
     "output_type": "stream",
     "text": [
      "/Users/gladys/Desktop/project1/grading_tests/implementations.py:136: RuntimeWarning: overflow encountered in exp\n",
      "  return np.where(t < 0, np.exp(t)/(1.0 +np.exp(t)) , 1.0 / (1.0 + np.exp(-t)))  ##\n"
     ]
    },
    {
     "data": {
      "text/plain": [
       "array([7.11427486e-1779, 6.65742862e-1779, 6.31747824e-1779, ...,\n",
       "       6.06829266e-1779, 6.03190407e-1779, 2.37744356e-1978],\n",
       "      dtype=float128)"
      ]
     },
     "metadata": {},
     "output_type": "display_data"
    },
    {
     "name": "stdout",
     "output_type": "stream",
     "text": [
      "temp (0,)\n"
     ]
    }
   ],
   "source": [
    "def prediction_labels(weights, data): ## isn't this for linear regression only ? Don't we need the sigmoid?\n",
    "   \"\"\"Generates class predictions given weights, and a test data matrix.\"\"\"\n",
    "   y_pred = sigmoid(np.dot(data, weights))\n",
    "   display(y_pred)\n",
    "   y_pred[np.where(y_pred >=0.5)] = 1\n",
    "   y_pred[np.where(y_pred < 0.5)] = -1\n",
    "   return y_pred\n",
    "\n",
    "y_pred = prediction_labels(w, x_train_2)\n",
    "temp = y_pred[y_pred != -1]\n",
    "print(\"temp\", temp.shape)"
   ]
  },
  {
   "cell_type": "code",
   "execution_count": 100,
   "metadata": {},
   "outputs": [
    {
     "name": "stdout",
     "output_type": "stream",
     "text": [
      "x_train_2 (328135, 117) w shape (117,)\n"
     ]
    }
   ],
   "source": [
    "print(\"x_train_2\", x_train_2.shape, \"w shape\", w.shape)"
   ]
  },
  {
   "cell_type": "code",
   "execution_count": null,
   "metadata": {},
   "outputs": [],
   "source": []
  },
  {
   "cell_type": "markdown",
   "metadata": {},
   "source": [
    "### Logistic regression with regularization"
   ]
  },
  {
   "cell_type": "code",
   "execution_count": null,
   "metadata": {},
   "outputs": [],
   "source": []
  }
 ],
 "metadata": {
  "kernelspec": {
   "display_name": "adaexam",
   "language": "python",
   "name": "python3"
  },
  "language_info": {
   "codemirror_mode": {
    "name": "ipython",
    "version": 3
   },
   "file_extension": ".py",
   "mimetype": "text/x-python",
   "name": "python",
   "nbconvert_exporter": "python",
   "pygments_lexer": "ipython3",
   "version": "3.9.7"
  }
 },
 "nbformat": 4,
 "nbformat_minor": 2
}
