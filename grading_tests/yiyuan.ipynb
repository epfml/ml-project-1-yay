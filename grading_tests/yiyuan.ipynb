{
 "cells": [
  {
   "cell_type": "code",
   "execution_count": 1,
   "metadata": {},
   "outputs": [],
   "source": [
    "from helpers import *\n",
    "import numpy as np\n",
    "import pandas as pd\n",
    "from implementations import *\n",
    "import matplotlib.pyplot as plt"
   ]
  },
  {
   "cell_type": "code",
   "execution_count": 2,
   "metadata": {},
   "outputs": [],
   "source": [
    "data_path = '../data/dataset_to_release'\n",
    "x_train_preclean, x_test_preclean, y_train, train_ids, test_ids = load_csv_data(data_path)"
   ]
  },
  {
   "cell_type": "code",
   "execution_count": 3,
   "metadata": {},
   "outputs": [],
   "source": [
    "def unique_values(x_col):\n",
    "    return len(np.unique(x_col))\n",
    "\n",
    "unique_values = np.apply_along_axis(unique_values, 0, x_train_preclean)\n"
   ]
  },
  {
   "cell_type": "code",
   "execution_count": 4,
   "metadata": {},
   "outputs": [
    {
     "name": "stdout",
     "output_type": "stream",
     "text": [
      "[    53     12    414     12     31      2      2  21780  21780      2\n",
      "      3      2      2      3      3     17     13     12      2      2\n",
      "      3      3      2      3      5     26      8     34     33     34\n",
      "      4      5      5      8      7      5      4      7      5      4\n",
      "      4      5      5      4      4      5      4      4      7     99\n",
      "      2      7      7      5      5      9      5      5      9     26\n",
      "     11      5    551    143      5      5      5      5      5      5\n",
      "      5      5      5      6      5     11      6     41     49     44\n",
      "     59    110    135    109    116    104    134      5     78    116\n",
      "    195     79    100    169    102      5      5      6     14      9\n",
      "      5     29     14      5      5    413     12      5      6      4\n",
      "     80     73     48     42     46      8      5      5      6     18\n",
      "      8      7     16      5      5      9      5      9      8      8\n",
      "     11      9      5      5      4      4      5      8      8      8\n",
      "      8      5      5    137      5     73      4      9     12     19\n",
      "     26      9      8      7     10      5      5      5      6      5\n",
      "      4      5      7      5      5      5      7      6      6      5\n",
      "      5      8      5      8      5      8      5      5      8      5\n",
      "      8      5      5      9      5      5      5      5      8      8\n",
      "      6      9      9      9      7     94      7     93      7      7\n",
      "      4      9      5      5      8      7     18     18     18     18\n",
      "     18     18     18     18      5      5      8      4      5   1306\n",
      "   1305     12   5528      4     10     10  20453      3    107 216913\n",
      "      3      3      3      4      4      3      3      4      3     10\n",
      "      9      3      9      3      6      6     14      3     63      6\n",
      "     53    104    542   3525      5      3      7      5      6      5\n",
      "      3      4     36      3    237      3     98    122     97    103\n",
      "     93    118      3      5      2      2    501   1025      3      3\n",
      "      2      2      3      3      3     30     30    163    156      4\n",
      "      4    193    167    111     95    730    577     97      3    858\n",
      "    673   2667    535    416   1374      5      3      4      4      3\n",
      "      3      5      3      5      5      6      3      3      4      4\n",
      "      4]\n"
     ]
    }
   ],
   "source": [
    "print(unique_values)"
   ]
  },
  {
   "cell_type": "code",
   "execution_count": 5,
   "metadata": {},
   "outputs": [
    {
     "data": {
      "text/plain": [
       "(array([ 73., 139.,  17.,  12.,   0.,   4.,   6.,   1.,   3.,   3.,   2.,\n",
       "          1.,   1.,   0.,   2.,   2.,   1.,   0.,   3.,   6.]),\n",
       " array([  0.,   5.,  10.,  15.,  20.,  25.,  30.,  35.,  40.,  45.,  50.,\n",
       "         55.,  60.,  65.,  70.,  75.,  80.,  85.,  90.,  95., 100.]),\n",
       " <BarContainer object of 20 artists>)"
      ]
     },
     "execution_count": 5,
     "metadata": {},
     "output_type": "execute_result"
    },
    {
     "data": {
      "image/png": "[encoded data removed]",
      "text/plain": [
       "<Figure size 640x480 with 1 Axes>"
      ]
     },
     "metadata": {},
     "output_type": "display_data"
    }
   ],
   "source": [
    "plt.hist(unique_values, bins=20, range=[0,100])\n"
   ]
  },
  {
   "cell_type": "code",
   "execution_count": 51,
   "metadata": {},
   "outputs": [
    {
     "name": "stdout",
     "output_type": "stream",
     "text": [
      "[  5   6   9  10  11  12  13  14  18  19  20  21  22  23  30  36  39  40\n",
      "  43  44  46  47  50 109 134 135 146 160 200 217 223 227 230 231 232 233\n",
      " 234 235 236 237 238 241 243 247 255 260 261 263 265 272 274 275 278 279\n",
      " 280 281 282 283 284 289 290 298 306 307 308 309 310 312 316 317 318 319\n",
      " 320]\n",
      "(73,)\n"
     ]
    }
   ],
   "source": [
    "## get a smaller subset of the data \n",
    "## find out the indicies of columes where the unique values are less than 5? \n",
    "\n",
    "cate_indices = np.argwhere(unique_values < 5 ).flatten()\n",
    "print(cate_indices)\n",
    "print(cate_indices.shape)"
   ]
  },
  {
   "cell_type": "code",
   "execution_count": 52,
   "metadata": {},
   "outputs": [],
   "source": [
    "smaller_x_train = x_train_preclean[:, cate_indices]"
   ]
  },
  {
   "cell_type": "code",
   "execution_count": 55,
   "metadata": {},
   "outputs": [],
   "source": [
    "## now let's do the one hot encoding\n",
    "def process_categorical(one_col):\n",
    "    \"\"\" \n",
    "    why do I need this: some categorical data has this format (1, 2, 7, 9), but encoding needs it to be (0, 1, 2, 3) continuous discrete numbers \n",
    "    \"\"\"\n",
    "    unique_values = np.sort(np.unique(one_col))\n",
    "    return_col = -1 * np.ones(one_col.shape)\n",
    "    for i in range(len(unique_values)):\n",
    "        return_col[one_col == unique_values[i]] = i \n",
    "    return return_col.astype(int)\n",
    "\n",
    "\n",
    "def one_hot_encoding(one_col):\n",
    "    b = np.zeros((one_col.size, len(np.unique(one_col))))\n",
    "    b[np.arange(one_col.size), one_col] = 1\n",
    "    \n",
    "    return b\n",
    "\n",
    "def one_hot_encoding_interpretability(x_train, cate_indices, num_indices):\n",
    "    \"\"\"\n",
    "    Attempt to maintain the interpretability of the columns \n",
    "    Args:\n",
    "        x_train is needed to get the unique values of the categorical columns, so we know what it's exploded to \n",
    "        cate_indices: the indices of the categorical columns, based on the original data \n",
    "        num_indices: the indices of the numerical columns, based on the original data\n",
    "    \"\"\"\n",
    "    unique_values = np.unique(x_train[:, cate_indices], axis=0)\n",
    "    "
   ]
  },
  {
   "cell_type": "code",
   "execution_count": 56,
   "metadata": {},
   "outputs": [
    {
     "data": {
      "text/plain": [
       "(328135, 233)"
      ]
     },
     "execution_count": 56,
     "metadata": {},
     "output_type": "execute_result"
    }
   ],
   "source": [
    "smaller_x_train = np.apply_along_axis(process_categorical, 0, smaller_x_train)\n",
    "\n",
    "encoded_x_train = np.empty((len(smaller_x_train), 0))\n",
    "for i in range(smaller_x_train.shape[1]):\n",
    "    encoded_x_train = np.append(encoded_x_train, one_hot_encoding(smaller_x_train[:,i]), axis=1)\n",
    "\n",
    "encoded_x_train.shape"
   ]
  },
  {
   "cell_type": "code",
   "execution_count": 48,
   "metadata": {},
   "outputs": [
    {
     "name": "stdout",
     "output_type": "stream",
     "text": [
      "[[1. 0. 1. ... 0. 1. 0.]\n",
      " [1. 0. 0. ... 0. 0. 0.]\n",
      " [1. 0. 1. ... 0. 1. 0.]\n",
      " ...\n",
      " [1. 0. 1. ... 0. 1. 0.]\n",
      " [1. 0. 1. ... 0. 1. 0.]\n",
      " [1. 0. 1. ... 0. 1. 0.]]\n"
     ]
    }
   ],
   "source": [
    "print(encoded_x_train)"
   ]
  },
  {
   "cell_type": "code",
   "execution_count": 49,
   "metadata": {},
   "outputs": [
    {
     "name": "stdout",
     "output_type": "stream",
     "text": [
      "[[2 2 3]\n",
      " [1 3 4]\n",
      " [2 5 9]]\n",
      "[[1 0 0]\n",
      " [0 1 1]\n",
      " [1 2 2]]\n",
      "[[0. 1.]\n",
      " [1. 0.]\n",
      " [0. 1.]]\n",
      "shape (3, 2)\n"
     ]
    }
   ],
   "source": [
    "## checking my process cateogrical function\n",
    "test = np.array([[2, 2, 3],[1, 3, 4], [2, 5, 9]])\n",
    "print(test)\n",
    "test_process = np.apply_along_axis(process_categorical, 0, test)\n",
    "print(test_process)\n",
    "one_col_temp = one_hot_encoding(test_process[:, 0])\n",
    "print(one_col_temp)\n",
    "print(\"shape\", one_col_temp.shape)"
   ]
  },
  {
   "cell_type": "code",
   "execution_count": 70,
   "metadata": {},
   "outputs": [],
   "source": [
    "def build_k_indices(y, k_fold, seed):\n",
    "    \"\"\"build k indices for k-fold.\n",
    "\n",
    "    Args:\n",
    "        y:      shape=(N,)\n",
    "        k_fold: K in K-fold, i.e. the fold num\n",
    "        seed:   the random seed\n",
    "\n",
    "    Returns:\n",
    "        A 2D array of shape=(k_fold, N/k_fold) that indicates the data indices for each fold\n",
    "\n",
    "    >>> build_k_indices(np.array([1., 2., 3., 4.]), 2, 1)\n",
    "    array([[3, 2],\n",
    "           [0, 1]])\n",
    "    \"\"\"\n",
    "    num_row = y.shape[0]\n",
    "    interval = int(num_row / k_fold)\n",
    "    np.random.seed(seed)\n",
    "    indices = np.random.permutation(num_row)\n",
    "    k_indices = [indices[k * interval : (k + 1) * interval] for k in range(k_fold)]\n",
    "    return np.array(k_indices)"
   ]
  },
  {
   "cell_type": "code",
   "execution_count": null,
   "metadata": {},
   "outputs": [],
   "source": [
    "## Writing the cross validation function on regularized logsitic regression\n",
    "def cross_validation(y, x, k_fold, lambda_):\n",
    "    \"\"\"\n",
    "    Separate the training set into k_fold parts, get k_fold sets of w weights, and return the average w \n",
    "    Args: \n",
    "        y, \n",
    "        x, \n",
    "        k_fold,\n",
    "        lambda_,\n",
    "    \n",
    "    Return:\n",
    "        average weight\n",
    "        losses (loss of each fold)\n",
    "    \"\"\"\n",
    "    k_indices = build_k_indices(y, k_fold, 1)\n",
    "    losses = []\n",
    "    weights = []\n",
    "    for k in range(k_fold):\n",
    "        test_indices = k_indices[k]\n",
    "        train_indices = k_indices[~(np.arange(k_indices.shape[0]) == k)].flatten()\n",
    "        x_train = x[train_indices]\n",
    "        y_train = y[train_indices]\n",
    "        x_test = x[test_indices]\n",
    "        y_test = y[test_indices]\n",
    "        \n",
    "        w, loss = reg_logistic_regression(y_train, x_train, lambda_, np.zeros(x_train.shape[1]), 100, 0.1)\n",
    "        losses.append(loss)\n",
    "        weights.append(w)\n",
    "    \n",
    "    return np.mean(weights, axis=0), losses\n"
   ]
  }
 ],
 "metadata": {
  "kernelspec": {
   "display_name": "adaexam",
   "language": "python",
   "name": "python3"
  },
  "language_info": {
   "codemirror_mode": {
    "name": "ipython",
    "version": 3
   },
   "file_extension": ".py",
   "mimetype": "text/x-python",
   "name": "python",
   "nbconvert_exporter": "python",
   "pygments_lexer": "ipython3",
   "version": "3.9.7"
  }
 },
 "nbformat": 4,
 "nbformat_minor": 2
}
