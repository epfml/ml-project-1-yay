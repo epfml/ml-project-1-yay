{
 "cells": [
  {
   "cell_type": "code",
   "execution_count": 1,
   "metadata": {
    "ExecuteTime": {
     "end_time": "2023-10-26T13:53:39.958806032Z",
     "start_time": "2023-10-26T13:53:38.828203084Z"
    },
    "id": "kR5nz3uGhe_1"
   },
   "outputs": [],
   "source": [
    "import numpy as np\n",
    "import matplotlib.pyplot as plt\n",
    "import sys"
   ]
  },
  {
   "cell_type": "code",
   "source": [
    "from helpers import *\n",
    "from implementations import *\n",
    "from encoding import *"
   ],
   "metadata": {
    "id": "6WveqJXARFOS"
   },
   "execution_count": 3,
   "outputs": []
  },
  {
   "cell_type": "code",
   "execution_count": 4,
   "metadata": {
    "ExecuteTime": {
     "start_time": "2023-10-26T13:53:39.955737596Z"
    },
    "id": "WMkmJFv8he_-",
    "is_executing": true
   },
   "outputs": [],
   "source": [
    "data_path = 'data'\n",
    "x_train_preclean, x_test_preclean, y_train, train_ids, test_ids = load_csv_data(data_path)"
   ]
  },
  {
   "cell_type": "markdown",
   "metadata": {
    "id": "qiG53St4he_-"
   },
   "source": [
    "# Getting an idea of the data"
   ]
  },
  {
   "cell_type": "code",
   "execution_count": 5,
   "metadata": {
    "colab": {
     "base_uri": "https://localhost:8080/"
    },
    "id": "2LKy7RRdhfAB",
    "is_executing": true,
    "outputId": "142225cd-f3c3-4a80-d6a1-71646aa88a8b"
   },
   "outputs": [
    {
     "output_type": "stream",
     "name": "stdout",
     "text": [
      "X train (328135, 321)\n",
      "X test (109379, 321)\n"
     ]
    }
   ],
   "source": [
    "print(\"X train\", x_train_preclean.shape)\n",
    "print(\"X test\", x_test_preclean.shape)"
   ]
  },
  {
   "cell_type": "code",
   "execution_count": 6,
   "metadata": {
    "colab": {
     "base_uri": "https://localhost:8080/",
     "height": 489
    },
    "id": "t3coPBtQhfAI",
    "is_executing": true,
    "outputId": "7ba20346-6fc0-4d97-b8c7-4981ab655e61"
   },
   "outputs": [
    {
     "output_type": "execute_result",
     "data": {
      "text/plain": [
       "Text(0, 0.5, '# of columns')"
      ]
     },
     "metadata": {},
     "execution_count": 6
    },
    {
     "output_type": "display_data",
     "data": {
      "text/plain": [
       "<Figure size 640x480 with 1 Axes>"
      ],
      "image/png": "[encoded data removed]"
     },
     "metadata": {}
    }
   ],
   "source": [
    "## Find how many values are completely empty in column\n",
    "def percentageFilled(data):\n",
    "    return 1 - np.isnan(data).sum() / len(data)\n",
    "\n",
    "percentage_filled = np.apply_along_axis(percentageFilled, 0, x_train_preclean)\n",
    "\n",
    "plt.hist(percentage_filled, bins=20)\n",
    "plt.title(\"Percentage of filled values per column\")\n",
    "plt.xlabel(\"Percentage\")\n",
    "plt.ylabel(\"# of columns\")"
   ]
  },
  {
   "cell_type": "markdown",
   "metadata": {
    "id": "9UEZXt4khfAI"
   },
   "source": [
    "# Data Cleaning"
   ]
  },
  {
   "cell_type": "code",
   "execution_count": 7,
   "metadata": {
    "id": "vgDY5h4WhfAK"
   },
   "outputs": [],
   "source": [
    " x_train, filter, categorical_filter, corr_filter, num_transform, cat_transform = process_train(x_train_preclean)\n",
    " x_test = process_test(x_test_preclean, filter, categorical_filter, corr_filter, num_transform, cat_transform)\n"
   ]
  },
  {
   "cell_type": "markdown",
   "metadata": {
    "id": "w4qPiQhmhfAN"
   },
   "source": [
    "# Logistic regression *WITH* regularization"
   ]
  },
  {
   "cell_type": "code",
   "source": [
    "initial_w = np.zeros(x_train.shape[1], dtype=np.float64)\n",
    "max_iters = 100\n",
    "gamma = 0.01\n",
    "lambda_ = 0.001 #0.0001\n",
    "lambda_adam = 0.001\n",
    "gamma_sgd = 0.1\n",
    "w_ada, loss_AdaGrad, losses, t = regularized_log_AdaGrad(y_train, x_train, initial_w, max_iters, gamma, lambda_)\n",
    "w_sgd, loss_sgd, losses_sgd, t_sgd = regularized_log_reg_sgd(y_train, x_train, initial_w, max_iters, gamma_sgd, lambda_)"
   ],
   "metadata": {
    "id": "u8v_CUNFTpbZ"
   },
   "execution_count": null,
   "outputs": []
  },
  {
   "cell_type": "code",
   "execution_count": null,
   "metadata": {
    "id": "RMz1fYlAQ0Sb"
   },
   "outputs": [],
   "source": [
    "num_iterations = len(losses)\n",
    "iterations = range(1, num_iterations + 1)\n",
    "\n",
    "# Create the plot\n",
    "plt.figure(figsize=(7, 5))  # Adjust the figure size as needed\n",
    "plt.plot(iterations, losses, linestyle='-', label='Adaptive leaning rate')\n",
    "plt.plot(iterations, losses_sgd, linestyle='-', label='Annealing learning rate')\n",
    "# Add labels and a title\n",
    "plt.xlabel('Iteration')\n",
    "plt.ylabel('Loss')\n",
    "plt.title('Learning rate')\n",
    "\n",
    "# Show the plot\n",
    "plt.grid(True)\n",
    "plt.legend()"
   ]
  },
  {
   "cell_type": "code",
   "source": [
    "\n",
    "tx_train, tx_val, ty_train, y_val = split_data(x_train, y_train, 0.8)\n",
    "\n",
    "\n",
    "lambdas= np.logspace(-5, -1, 8)\n",
    "print(lambdas)\n",
    "max_iters = 100\n",
    "initial_w = np.zeros(tx_train.shape[1])\n",
    "gamma = 0.1\n",
    "losses_tr = []\n",
    "losses_te = []\n",
    "\n",
    "for lambda_ in lambdas:\n",
    "  w, loss_tr, l, _ = regularized_log_reg_sgd(ty_train, tx_train, initial_w, max_iters, gamma, lambda_)\n",
    "\n",
    "  loss_val = logistic_loss(y_val, tx_val, w) + (lambda_ / 2) * np.squeeze(w.T @ w)\n",
    "  losses_tr.append(loss_tr)\n",
    "  losses_te.append(loss_val)\n",
    "\n",
    "loss_tr = [np.mean(sublist) for sublist in losses_tr]\n",
    "\n",
    "\n",
    "plt.figure(figsize=(6, 4))  # Adjust the figure size as needed\n",
    "\n",
    "# Plot training losses\n",
    "plt.plot(lambdas, loss_tr, label='Training Loss', linestyle='-')\n",
    "\n",
    "# Plot validation losses\n",
    "plt.plot(lambdas, losses_te, label='Validation Loss', linestyle='-')\n",
    "\n",
    "# Add labels and a title\n",
    "#plt.xscale('log')  # Set x-axis to a logarithmic scale\n",
    "plt.xlabel('Lambda (Regularization Strength)')\n",
    "plt.ylabel('Loss')\n",
    "plt.title('Training and Validation Loss vs. Lambda')\n",
    "\n",
    "plt.legend()\n",
    "# Show the plot\n",
    "plt.grid(True)\n",
    "plt.show()\n"
   ],
   "metadata": {
    "id": "6vZiDek6YHAM"
   },
   "execution_count": null,
   "outputs": []
  },
  {
   "cell_type": "code",
   "source": [
    "y_pred_w_ada = prediction_labels(w_ada, x_train)\n",
    "f1_score(y_pred_w_ada, y_train)"
   ],
   "metadata": {
    "id": "oL7aU3GRc-Sj"
   },
   "execution_count": null,
   "outputs": []
  },
  {
   "cell_type": "code",
   "source": [
    "y_pred_w_sgd = prediction_labels(w_sgd, x_train)\n",
    "f1_score(y_pred_w_sgd, y_train)"
   ],
   "metadata": {
    "id": "A4iZ8850dpQf"
   },
   "execution_count": null,
   "outputs": []
  },
  {
   "cell_type": "code",
   "execution_count": null,
   "outputs": [],
   "source": [
    "loss_tr,loss_tt, f1_scores, weights, y_preds = get_best_parameters(y_train, x_train, np.zeros(x_train.shape[1]), 10000, 4, 0.05, np.logspace(-4, 0, 20))"
   ],
   "metadata": {
    "collapsed": false
   }
  }
 ],
 "metadata": {
  "colab": {
   "provenance": []
  },
  "kernelspec": {
   "display_name": "Python 3 (ipykernel)",
   "language": "python",
   "name": "python3"
  },
  "language_info": {
   "codemirror_mode": {
    "name": "ipython",
    "version": 3
   },
   "file_extension": ".py",
   "mimetype": "text/x-python",
   "name": "python",
   "nbconvert_exporter": "python",
   "pygments_lexer": "ipython3",
   "version": "3.10.12"
  }
 },
 "nbformat": 4,
 "nbformat_minor": 0
}
