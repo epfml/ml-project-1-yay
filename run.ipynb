{
 "cells": [
  {
   "cell_type": "code",
   "execution_count": 1,
   "metadata": {
    "ExecuteTime": {
     "end_time": "2023-10-26T13:53:39.958806032Z",
     "start_time": "2023-10-26T13:53:38.828203084Z"
    },
    "colab": {
     "base_uri": "https://localhost:8080/"
    },
    "id": "kR5nz3uGhe_1",
    "outputId": "577e36b8-cd42-44a0-899c-39f96d464ead"
   },
   "outputs": [],
   "source": [
    "import numpy as np\n",
    "import matplotlib.pyplot as plt\n",
    "\n",
    "from helpers import *\n",
    "from implementations import *\n",
    "from encoding import *"
   ]
  },
  {
   "cell_type": "code",
   "execution_count": 4,
   "metadata": {
    "ExecuteTime": {
     "start_time": "2023-10-26T13:53:39.955737596Z"
    },
    "id": "WMkmJFv8he_-",
    "is_executing": true
   },
   "outputs": [],
   "source": [
    "# loading the data\n",
    "data_path = 'data'\n",
    "x_train_preclean, x_test_preclean, y_train, train_ids, test_ids = load_csv_data(data_path)"
   ]
  },
  {
   "cell_type": "markdown",
   "metadata": {
    "id": "qiG53St4he_-"
   },
   "source": [
    "# Getting an idea of the data"
   ]
  },
  {
   "cell_type": "code",
   "execution_count": 5,
   "metadata": {
    "colab": {
     "base_uri": "https://localhost:8080/"
    },
    "id": "2LKy7RRdhfAB",
    "is_executing": true,
    "outputId": "91ad4985-ffd4-4cee-842f-588eca201921"
   },
   "outputs": [
    {
     "name": "stdout",
     "output_type": "stream",
     "text": [
      "X train (328135, 321)\n",
      "X test (109379, 321)\n"
     ]
    }
   ],
   "source": [
    "print(\"X train\", x_train_preclean.shape)\n",
    "print(\"X test\", x_test_preclean.shape)"
   ]
  },
  {
   "cell_type": "code",
   "execution_count": 6,
   "metadata": {
    "colab": {
     "base_uri": "https://localhost:8080/",
     "height": 489
    },
    "id": "t3coPBtQhfAI",
    "is_executing": true,
    "jupyter": {
     "outputs_hidden": false
    },
    "outputId": "cc238775-c9c3-4e26-8f85-a80da8868609"
   },
   "outputs": [
    {
     "data": {
      "text/plain": [
       "Text(0, 0.5, '# of columns')"
      ]
     },
     "execution_count": 6,
     "metadata": {},
     "output_type": "execute_result"
    },
    {
     "data": {
      "image/png": "[encoded data removed]",
      "text/plain": [
       "<Figure size 432x288 with 1 Axes>"
      ]
     },
     "metadata": {
      "needs_background": "light"
     },
     "output_type": "display_data"
    }
   ],
   "source": [
    "## Find how many values are completely empty in column\n",
    "def percentageFilled(data):\n",
    "    return 1 - np.isnan(data).sum() / len(data)\n",
    "\n",
    "percentage_filled = np.apply_along_axis(percentageFilled, 0, x_train_preclean)\n",
    "\n",
    "plt.hist(percentage_filled, bins=20)\n",
    "plt.title(\"Percentage of filled values per column\")\n",
    "plt.xlabel(\"Percentage\")\n",
    "plt.ylabel(\"# of columns\")"
   ]
  },
  {
   "cell_type": "markdown",
   "metadata": {
    "id": "9UEZXt4khfAI"
   },
   "source": [
    "# Data Cleaning"
   ]
  },
  {
   "cell_type": "code",
   "execution_count": 7,
   "metadata": {
    "id": "bHMHa_TwhfAJ",
    "is_executing": true,
    "jupyter": {
     "outputs_hidden": false
    }
   },
   "outputs": [],
   "source": [
    "## Process data\n",
    "## 1. drop the columns with less than 20% filled values\n",
    "def threshold_col_filter(data, threshold):\n",
    "    \"\"\"\n",
    "    filter out data where the column has less than threshold percentage of data\n",
    "    returns:\n",
    "        indicies of columns to keep\n",
    "    \"\"\"\n",
    "    percentage_filled = np.apply_along_axis(percentageFilled, 0, data)\n",
    "    return percentage_filled > threshold\n",
    "\n",
    "\n",
    "def non_constant_filter(data):\n",
    "    \"\"\"\n",
    "    filter out where the values in the column are all the same\n",
    "    \"\"\"\n",
    "    return np.logical_not(np.logical_or(np.isnan(np.nanstd(data, 0)), np.nanstd(data, 0) == 0))"
   ]
  },
  {
   "cell_type": "code",
   "execution_count": 8,
   "metadata": {
    "id": "qTMg0Dv6hfAJ",
    "jupyter": {
     "outputs_hidden": false
    }
   },
   "outputs": [],
   "source": [
    "def standardize(x):\n",
    "    \"\"\"Standardize the original data set.\"\"\"\n",
    "    std = np.nanstd(x, axis=0)\n",
    "    mean = np.nanmean(x, axis=0)\n",
    "    return np.nan_to_num((x - np.nanmean(x, axis=0)) / np.nanstd(x, axis=0)), mean, std"
   ]
  },
  {
   "cell_type": "code",
   "execution_count": null,
   "metadata": {
    "colab": {
     "base_uri": "https://localhost:8080/"
    },
    "id": "vgDY5h4WhfAK",
    "outputId": "d0265c24-511d-4743-fc85-3c036cca3a49"
   },
   "outputs": [],
   "source": [
    " x_train, filter, categorical_filter, corr_filter, num_transform, cat_transform = process_train(x_train_preclean)\n",
    " x_test = process_test(x_test_preclean, filter, categorical_filter, corr_filter, num_transform, cat_transform)\n"
   ]
  },
  {
   "cell_type": "markdown",
   "metadata": {
    "id": "w4qPiQhmhfAN"
   },
   "source": [
    "# Logistic regression *WITH* regularization"
   ]
  },
  {
   "cell_type": "code",
   "execution_count": null,
   "metadata": {
    "colab": {
     "base_uri": "https://localhost:8080/"
    },
    "id": "o7f2bgQ6k54G",
    "outputId": "20d4e47e-ddc3-424a-d5a3-18f3f13cbc38"
   },
   "outputs": [],
   "source": [
    "loss_tr,loss_tt, f1_scores, weights, y_preds = get_best_parameters(y_train, x_train, np.zeros(x_train.shape[1]), 10000, 4, 0.05, np.logspace(-4, 0, 20))"
   ]
  },
  {
   "cell_type": "code",
   "execution_count": null,
   "metadata": {},
   "outputs": [],
   "source": [
    "num_iterations = len(losses)\n",
    "iterations = range(1, num_iterations + 1)\n",
    "\n",
    "# Create the plot\n",
    "plt.figure(figsize=(7, 5))  # Adjust the figure size as needed\n",
    "plt.plot(iterations, losses, linestyle='-', label='Adaptive leaning rate')\n",
    "plt.plot(iterations, losses_sgd, linestyle='-', label='Annealing learning rate')\n",
    "# Add labels and a title\n",
    "plt.xlabel('Iteration')\n",
    "plt.ylabel('Loss')\n",
    "plt.title('Learning rate')\n",
    "\n",
    "# Show the plot\n",
    "plt.grid(True)\n",
    "plt.legend()"
   ]
  },
  {
   "cell_type": "code",
   "execution_count": null,
   "metadata": {
    "id": "lusHVtUbjfpL"
   },
   "outputs": [],
   "source": [
    "y_pred_test = prediction_labels(weights[np.argmax(f1_scores)], x_test)\n",
    "y_pred_test[y_pred_test == 0] = -1\n",
    "create_csv_submission(test_ids, y_pred_test, \"submission_1135\")"
   ]
  }
 ],
 "metadata": {
  "colab": {
   "provenance": []
  },
  "kernelspec": {
   "display_name": "Python 3 (ipykernel)",
   "language": "python",
   "name": "python3"
  },
  "language_info": {
   "codemirror_mode": {
    "name": "ipython",
    "version": 3
   },
   "file_extension": ".py",
   "mimetype": "text/x-python",
   "name": "python",
   "nbconvert_exporter": "python",
   "pygments_lexer": "ipython3",
   "version": "3.10.12"
  }
 },
 "nbformat": 4,
 "nbformat_minor": 4
}
